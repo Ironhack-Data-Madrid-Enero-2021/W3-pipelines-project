{
 "cells": [
  {
   "cell_type": "code",
   "execution_count": 1,
   "metadata": {},
   "outputs": [],
   "source": [
    "import pandas as pd\n",
    "import numpy as np\n",
    "import re\n",
    "import seaborn as sns\n",
    "import matplotlib as plt\n",
    "import requests\n",
    "from bs4 import BeautifulSoup\n",
    "from tabulate import tabulate\n",
    "import time"
   ]
  },
  {
   "cell_type": "code",
   "execution_count": 2,
   "metadata": {},
   "outputs": [],
   "source": [
    "airbnb_NYC = pd.read_csv(\"./data/AB_NYC_2019.csv\", encoding = \"ISO-8859-1\")"
   ]
  },
  {
   "cell_type": "code",
   "execution_count": 3,
   "metadata": {},
   "outputs": [
    {
     "data": {
      "text/plain": [
       "(48895, 16)"
      ]
     },
     "execution_count": 3,
     "metadata": {},
     "output_type": "execute_result"
    }
   ],
   "source": [
    "airbnb_NYC.shape"
   ]
  },
  {
   "cell_type": "code",
   "execution_count": 4,
   "metadata": {},
   "outputs": [
    {
     "data": {
      "text/html": [
       "<div>\n",
       "<style scoped>\n",
       "    .dataframe tbody tr th:only-of-type {\n",
       "        vertical-align: middle;\n",
       "    }\n",
       "\n",
       "    .dataframe tbody tr th {\n",
       "        vertical-align: top;\n",
       "    }\n",
       "\n",
       "    .dataframe thead th {\n",
       "        text-align: right;\n",
       "    }\n",
       "</style>\n",
       "<table border=\"1\" class=\"dataframe\">\n",
       "  <thead>\n",
       "    <tr style=\"text-align: right;\">\n",
       "      <th></th>\n",
       "      <th>id</th>\n",
       "      <th>name</th>\n",
       "      <th>host_id</th>\n",
       "      <th>host_name</th>\n",
       "      <th>neighbourhood_group</th>\n",
       "      <th>neighbourhood</th>\n",
       "      <th>latitude</th>\n",
       "      <th>longitude</th>\n",
       "      <th>room_type</th>\n",
       "      <th>price</th>\n",
       "      <th>minimum_nights</th>\n",
       "      <th>number_of_reviews</th>\n",
       "      <th>last_review</th>\n",
       "      <th>reviews_per_month</th>\n",
       "      <th>calculated_host_listings_count</th>\n",
       "      <th>availability_365</th>\n",
       "    </tr>\n",
       "  </thead>\n",
       "  <tbody>\n",
       "    <tr>\n",
       "      <th>0</th>\n",
       "      <td>2539</td>\n",
       "      <td>Clean &amp; quiet apt home by the park</td>\n",
       "      <td>2787</td>\n",
       "      <td>John</td>\n",
       "      <td>Brooklyn</td>\n",
       "      <td>Kensington</td>\n",
       "      <td>40.64749</td>\n",
       "      <td>-73.97237</td>\n",
       "      <td>Private room</td>\n",
       "      <td>149</td>\n",
       "      <td>1</td>\n",
       "      <td>9</td>\n",
       "      <td>2018-10-19</td>\n",
       "      <td>0.21</td>\n",
       "      <td>6</td>\n",
       "      <td>365</td>\n",
       "    </tr>\n",
       "    <tr>\n",
       "      <th>1</th>\n",
       "      <td>2595</td>\n",
       "      <td>Skylit Midtown Castle</td>\n",
       "      <td>2845</td>\n",
       "      <td>Jennifer</td>\n",
       "      <td>Manhattan</td>\n",
       "      <td>Midtown</td>\n",
       "      <td>40.75362</td>\n",
       "      <td>-73.98377</td>\n",
       "      <td>Entire home/apt</td>\n",
       "      <td>225</td>\n",
       "      <td>1</td>\n",
       "      <td>45</td>\n",
       "      <td>2019-05-21</td>\n",
       "      <td>0.38</td>\n",
       "      <td>2</td>\n",
       "      <td>355</td>\n",
       "    </tr>\n",
       "    <tr>\n",
       "      <th>2</th>\n",
       "      <td>3647</td>\n",
       "      <td>THE VILLAGE OF HARLEM....NEW YORK !</td>\n",
       "      <td>4632</td>\n",
       "      <td>Elisabeth</td>\n",
       "      <td>Manhattan</td>\n",
       "      <td>Harlem</td>\n",
       "      <td>40.80902</td>\n",
       "      <td>-73.94190</td>\n",
       "      <td>Private room</td>\n",
       "      <td>150</td>\n",
       "      <td>3</td>\n",
       "      <td>0</td>\n",
       "      <td>NaN</td>\n",
       "      <td>NaN</td>\n",
       "      <td>1</td>\n",
       "      <td>365</td>\n",
       "    </tr>\n",
       "    <tr>\n",
       "      <th>3</th>\n",
       "      <td>3831</td>\n",
       "      <td>Cozy Entire Floor of Brownstone</td>\n",
       "      <td>4869</td>\n",
       "      <td>LisaRoxanne</td>\n",
       "      <td>Brooklyn</td>\n",
       "      <td>Clinton Hill</td>\n",
       "      <td>40.68514</td>\n",
       "      <td>-73.95976</td>\n",
       "      <td>Entire home/apt</td>\n",
       "      <td>89</td>\n",
       "      <td>1</td>\n",
       "      <td>270</td>\n",
       "      <td>2019-07-05</td>\n",
       "      <td>4.64</td>\n",
       "      <td>1</td>\n",
       "      <td>194</td>\n",
       "    </tr>\n",
       "    <tr>\n",
       "      <th>4</th>\n",
       "      <td>5022</td>\n",
       "      <td>Entire Apt: Spacious Studio/Loft by central park</td>\n",
       "      <td>7192</td>\n",
       "      <td>Laura</td>\n",
       "      <td>Manhattan</td>\n",
       "      <td>East Harlem</td>\n",
       "      <td>40.79851</td>\n",
       "      <td>-73.94399</td>\n",
       "      <td>Entire home/apt</td>\n",
       "      <td>80</td>\n",
       "      <td>10</td>\n",
       "      <td>9</td>\n",
       "      <td>2018-11-19</td>\n",
       "      <td>0.10</td>\n",
       "      <td>1</td>\n",
       "      <td>0</td>\n",
       "    </tr>\n",
       "  </tbody>\n",
       "</table>\n",
       "</div>"
      ],
      "text/plain": [
       "     id                                              name  host_id  \\\n",
       "0  2539                Clean & quiet apt home by the park     2787   \n",
       "1  2595                             Skylit Midtown Castle     2845   \n",
       "2  3647               THE VILLAGE OF HARLEM....NEW YORK !     4632   \n",
       "3  3831                   Cozy Entire Floor of Brownstone     4869   \n",
       "4  5022  Entire Apt: Spacious Studio/Loft by central park     7192   \n",
       "\n",
       "     host_name neighbourhood_group neighbourhood  latitude  longitude  \\\n",
       "0         John            Brooklyn    Kensington  40.64749  -73.97237   \n",
       "1     Jennifer           Manhattan       Midtown  40.75362  -73.98377   \n",
       "2    Elisabeth           Manhattan        Harlem  40.80902  -73.94190   \n",
       "3  LisaRoxanne            Brooklyn  Clinton Hill  40.68514  -73.95976   \n",
       "4        Laura           Manhattan   East Harlem  40.79851  -73.94399   \n",
       "\n",
       "         room_type  price  minimum_nights  number_of_reviews last_review  \\\n",
       "0     Private room    149               1                  9  2018-10-19   \n",
       "1  Entire home/apt    225               1                 45  2019-05-21   \n",
       "2     Private room    150               3                  0         NaN   \n",
       "3  Entire home/apt     89               1                270  2019-07-05   \n",
       "4  Entire home/apt     80              10                  9  2018-11-19   \n",
       "\n",
       "   reviews_per_month  calculated_host_listings_count  availability_365  \n",
       "0               0.21                               6               365  \n",
       "1               0.38                               2               355  \n",
       "2                NaN                               1               365  \n",
       "3               4.64                               1               194  \n",
       "4               0.10                               1                 0  "
      ]
     },
     "execution_count": 4,
     "metadata": {},
     "output_type": "execute_result"
    }
   ],
   "source": [
    "airbnb_NYC.head()"
   ]
  },
  {
   "cell_type": "markdown",
   "metadata": {},
   "source": [
    "### Firstly, we start deleting all the columns that are not useful for us."
   ]
  },
  {
   "cell_type": "code",
   "execution_count": 5,
   "metadata": {},
   "outputs": [
    {
     "data": {
      "text/plain": [
       "Index(['id', 'name', 'host_id', 'host_name', 'neighbourhood_group',\n",
       "       'neighbourhood', 'latitude', 'longitude', 'room_type', 'price',\n",
       "       'minimum_nights', 'number_of_reviews', 'last_review',\n",
       "       'reviews_per_month', 'calculated_host_listings_count',\n",
       "       'availability_365'],\n",
       "      dtype='object')"
      ]
     },
     "execution_count": 5,
     "metadata": {},
     "output_type": "execute_result"
    }
   ],
   "source": [
    "airbnb_NYC.columns"
   ]
  },
  {
   "cell_type": "code",
   "execution_count": 6,
   "metadata": {},
   "outputs": [],
   "source": [
    "airbnb_NYC = airbnb_NYC.drop(['name','latitude','longitude','host_name','calculated_host_listings_count','last_review'], axis = 1)"
   ]
  },
  {
   "cell_type": "markdown",
   "metadata": {},
   "source": [
    "### Being focused on neighbourhood groups, we define a function that help us to count associated data to each one."
   ]
  },
  {
   "cell_type": "code",
   "execution_count": 7,
   "metadata": {},
   "outputs": [
    {
     "data": {
      "text/plain": [
       "array(['Brooklyn', 'Manhattan', 'Queens', 'Staten Island', 'Bronx'],\n",
       "      dtype=object)"
      ]
     },
     "execution_count": 7,
     "metadata": {},
     "output_type": "execute_result"
    }
   ],
   "source": [
    "airbnb_NYC.neighbourhood_group.unique()"
   ]
  },
  {
   "cell_type": "code",
   "execution_count": 8,
   "metadata": {},
   "outputs": [
    {
     "data": {
      "text/plain": [
       "Manhattan        21661\n",
       "Brooklyn         20104\n",
       "Queens            5666\n",
       "Bronx             1091\n",
       "Staten Island      373\n",
       "Name: neighbourhood_group, dtype: int64"
      ]
     },
     "execution_count": 8,
     "metadata": {},
     "output_type": "execute_result"
    }
   ],
   "source": [
    "airbnb_NYC.loc[airbnb_NYC[\"neighbourhood_group\"] == \"Brooklyn\", \"neighbourhood_group\"] = \"Brooklyn\"\n",
    "airbnb_NYC.loc[airbnb_NYC[\"neighbourhood_group\"] == \"Manhattan\", \"neighbourhood_group\"] = \"Manhattan\"\n",
    "airbnb_NYC.loc[airbnb_NYC[\"neighbourhood_group\"] == \"Bronx\", \"neighbourhood_group\"] = \"Bronx\"\n",
    "airbnb_NYC.loc[airbnb_NYC[\"neighbourhood_group\"] == \"Queens\", \"neighbourhood_group\"] = \"Queens\"\n",
    "airbnb_NYC.loc[airbnb_NYC[\"neighbourhood_group\"] == \"Staten Island\", \"neighbourhood_group\"] = \"Staten Island\"\n",
    "airbnb_NYC.loc[airbnb_NYC[\"neighbourhood_group\"] == \"USA\", \"neighbourhood_group\"] = \"Other\"\n",
    "airbnb_NYC[\"neighbourhood_group\"].value_counts()"
   ]
  },
  {
   "cell_type": "code",
   "execution_count": 9,
   "metadata": {},
   "outputs": [],
   "source": [
    "def neighbourhood (neighbourhood_group):\n",
    "    if neighbourhood_group == \"Brooklyn\":\n",
    "        return \"Brooklyn\" \n",
    "    elif neighbourhood_group == \"Manhattan\":\n",
    "        return \"Manhattan\" \n",
    "    elif neighbourhood_group == \"Bronx\":\n",
    "        return \"Bronx\"\n",
    "    elif neighbourhood_group == \"Queens\":\n",
    "        return \"Queens\" \n",
    "    elif neighbourhood_group == \"Staten Island\":\n",
    "        return \"Staten Island\" \n",
    "    else:\n",
    "        return \"other\" "
   ]
  },
  {
   "cell_type": "code",
   "execution_count": 10,
   "metadata": {},
   "outputs": [],
   "source": [
    "airbnb_NYC [\"neighbourhood_group\"] = airbnb_NYC[\"neighbourhood_group\"].apply(neighbourhood)"
   ]
  },
  {
   "cell_type": "markdown",
   "metadata": {},
   "source": [
    "### Once our dataset is clean, we reset the index"
   ]
  },
  {
   "cell_type": "code",
   "execution_count": 11,
   "metadata": {},
   "outputs": [],
   "source": [
    "airbnb_NYC_2019 = airbnb_NYC.reset_index(drop=True)"
   ]
  },
  {
   "cell_type": "code",
   "execution_count": 12,
   "metadata": {},
   "outputs": [
    {
     "data": {
      "text/html": [
       "<div>\n",
       "<style scoped>\n",
       "    .dataframe tbody tr th:only-of-type {\n",
       "        vertical-align: middle;\n",
       "    }\n",
       "\n",
       "    .dataframe tbody tr th {\n",
       "        vertical-align: top;\n",
       "    }\n",
       "\n",
       "    .dataframe thead th {\n",
       "        text-align: right;\n",
       "    }\n",
       "</style>\n",
       "<table border=\"1\" class=\"dataframe\">\n",
       "  <thead>\n",
       "    <tr style=\"text-align: right;\">\n",
       "      <th></th>\n",
       "      <th>id</th>\n",
       "      <th>host_id</th>\n",
       "      <th>neighbourhood_group</th>\n",
       "      <th>neighbourhood</th>\n",
       "      <th>room_type</th>\n",
       "      <th>price</th>\n",
       "      <th>minimum_nights</th>\n",
       "      <th>number_of_reviews</th>\n",
       "      <th>reviews_per_month</th>\n",
       "      <th>availability_365</th>\n",
       "    </tr>\n",
       "  </thead>\n",
       "  <tbody>\n",
       "    <tr>\n",
       "      <th>0</th>\n",
       "      <td>2539</td>\n",
       "      <td>2787</td>\n",
       "      <td>Brooklyn</td>\n",
       "      <td>Kensington</td>\n",
       "      <td>Private room</td>\n",
       "      <td>149</td>\n",
       "      <td>1</td>\n",
       "      <td>9</td>\n",
       "      <td>0.21</td>\n",
       "      <td>365</td>\n",
       "    </tr>\n",
       "    <tr>\n",
       "      <th>1</th>\n",
       "      <td>2595</td>\n",
       "      <td>2845</td>\n",
       "      <td>Manhattan</td>\n",
       "      <td>Midtown</td>\n",
       "      <td>Entire home/apt</td>\n",
       "      <td>225</td>\n",
       "      <td>1</td>\n",
       "      <td>45</td>\n",
       "      <td>0.38</td>\n",
       "      <td>355</td>\n",
       "    </tr>\n",
       "    <tr>\n",
       "      <th>2</th>\n",
       "      <td>3647</td>\n",
       "      <td>4632</td>\n",
       "      <td>Manhattan</td>\n",
       "      <td>Harlem</td>\n",
       "      <td>Private room</td>\n",
       "      <td>150</td>\n",
       "      <td>3</td>\n",
       "      <td>0</td>\n",
       "      <td>NaN</td>\n",
       "      <td>365</td>\n",
       "    </tr>\n",
       "    <tr>\n",
       "      <th>3</th>\n",
       "      <td>3831</td>\n",
       "      <td>4869</td>\n",
       "      <td>Brooklyn</td>\n",
       "      <td>Clinton Hill</td>\n",
       "      <td>Entire home/apt</td>\n",
       "      <td>89</td>\n",
       "      <td>1</td>\n",
       "      <td>270</td>\n",
       "      <td>4.64</td>\n",
       "      <td>194</td>\n",
       "    </tr>\n",
       "    <tr>\n",
       "      <th>4</th>\n",
       "      <td>5022</td>\n",
       "      <td>7192</td>\n",
       "      <td>Manhattan</td>\n",
       "      <td>East Harlem</td>\n",
       "      <td>Entire home/apt</td>\n",
       "      <td>80</td>\n",
       "      <td>10</td>\n",
       "      <td>9</td>\n",
       "      <td>0.10</td>\n",
       "      <td>0</td>\n",
       "    </tr>\n",
       "  </tbody>\n",
       "</table>\n",
       "</div>"
      ],
      "text/plain": [
       "     id  host_id neighbourhood_group neighbourhood        room_type  price  \\\n",
       "0  2539     2787            Brooklyn    Kensington     Private room    149   \n",
       "1  2595     2845           Manhattan       Midtown  Entire home/apt    225   \n",
       "2  3647     4632           Manhattan        Harlem     Private room    150   \n",
       "3  3831     4869            Brooklyn  Clinton Hill  Entire home/apt     89   \n",
       "4  5022     7192           Manhattan   East Harlem  Entire home/apt     80   \n",
       "\n",
       "   minimum_nights  number_of_reviews  reviews_per_month  availability_365  \n",
       "0               1                  9               0.21               365  \n",
       "1               1                 45               0.38               355  \n",
       "2               3                  0                NaN               365  \n",
       "3               1                270               4.64               194  \n",
       "4              10                  9               0.10                 0  "
      ]
     },
     "execution_count": 12,
     "metadata": {},
     "output_type": "execute_result"
    }
   ],
   "source": [
    "airbnb_NYC_2019.head()"
   ]
  },
  {
   "cell_type": "code",
   "execution_count": 13,
   "metadata": {},
   "outputs": [
    {
     "data": {
      "text/plain": [
       "(48895, 10)"
      ]
     },
     "execution_count": 13,
     "metadata": {},
     "output_type": "execute_result"
    }
   ],
   "source": [
    "airbnb_NYC_2019.shape"
   ]
  },
  {
   "cell_type": "markdown",
   "metadata": {},
   "source": [
    "### Finally, we export our cleaned data to used in other files."
   ]
  },
  {
   "cell_type": "code",
   "execution_count": 14,
   "metadata": {},
   "outputs": [],
   "source": [
    "airbnb_NYC_2019.to_csv(\"./data/airbnb_NYC.csv\", index = False)"
   ]
  },
  {
   "cell_type": "markdown",
   "metadata": {},
   "source": [
    "# Scrapping"
   ]
  },
  {
   "cell_type": "markdown",
   "metadata": {},
   "source": [
    "We are using the info from this ![web site](https://www.health.ny.gov/statistics/cancer/registry/appendix/neighborhoodpop.htm]) to complete our data."
   ]
  },
  {
   "cell_type": "code",
   "execution_count": 15,
   "metadata": {},
   "outputs": [],
   "source": [
    "url_population = \"https://www.health.ny.gov/statistics/cancer/registry/appendix/neighborhoodpop.htm\""
   ]
  },
  {
   "cell_type": "code",
   "execution_count": 16,
   "metadata": {},
   "outputs": [],
   "source": [
    "response = requests.get(url_population)\n",
    "soup = BeautifulSoup(response.text, 'html.parser')"
   ]
  },
  {
   "cell_type": "code",
   "execution_count": 17,
   "metadata": {},
   "outputs": [],
   "source": [
    "population = soup('table', {\"class\": 'light_table right'})"
   ]
  },
  {
   "cell_type": "code",
   "execution_count": 18,
   "metadata": {},
   "outputs": [],
   "source": [
    "data = population[0].find_all('tr')"
   ]
  },
  {
   "cell_type": "code",
   "execution_count": 19,
   "metadata": {},
   "outputs": [],
   "source": [
    "table = (tabulate(data, tablefmt ='f'))"
   ]
  },
  {
   "cell_type": "code",
   "execution_count": 20,
   "metadata": {},
   "outputs": [],
   "source": [
    "#Opción 1: csv"
   ]
  },
  {
   "cell_type": "code",
   "execution_count": 21,
   "metadata": {},
   "outputs": [],
   "source": [
    "f = (open('NYC_population2019.csv', \"w\"))"
   ]
  },
  {
   "cell_type": "code",
   "execution_count": 22,
   "metadata": {},
   "outputs": [
    {
     "name": "stdout",
     "output_type": "stream",
     "text": [
      "Termina Proceso\n"
     ]
    }
   ],
   "source": [
    "for row in data:\n",
    "    f.write(\"%s\" % row.get_text().replace(\"\\n\",\"\\t\"))\n",
    "f.close()\n",
    "print(\"Termina Proceso\")"
   ]
  },
  {
   "cell_type": "code",
   "execution_count": 23,
   "metadata": {},
   "outputs": [],
   "source": [
    "fic = open('NYC_population2019.text', \"r\")\n",
    "lines = []\n",
    "for line in fic:\n",
    "    lines.append(line)\n",
    "fic.close()"
   ]
  },
  {
   "cell_type": "code",
   "execution_count": 24,
   "metadata": {},
   "outputs": [
    {
     "data": {
      "text/plain": [
       "[\"\\tBorough\\tregion\\tMales\\tFemales\\tTotal Population\\t\\tBronx\\tRiverdale, Fieldston & Kingsbridge\\t51,598\\t61,481\\t113,079\\t\\xa0\\tWakefield, Williamsbridge & Woodlawn\\t65,216\\t78,387\\t143,604\\t\\xa0\\tCo-op City, Pelham Bay & Schuylerville\\t55,037\\t65,204\\t120,241\\t\\xa0\\tPelham Parkway, Morris Park & Laconia\\t60,974\\t67,982\\t128,956\\t\\xa0\\tBelmont, Crotona Park East & East Tremont\\t77,119\\t89,293\\t166,411\\t\\xa0\\tBedford Park, Fordham North & Norwood\\t63,169\\t68,921\\t132,090\\t\\xa0\\tMorris Heights, Fordham South & Mount Hope\\t65,682\\t72,967\\t138,648\\t\\xa0\\tConcourse, Highbridge & Mount Eden\\t68,152\\t75,978\\t144,129\\t\\xa0\\tCastle Hill, Clason Point & Parkchester\\t88,007\\t100,193\\t188,201\\t\\xa0\\tHunts Point, Longwood & Melrose\\t81,666\\t79,759\\t161,425\\tKings (Brooklyn)\\tGreenpoint & Williamsburg\\t76,748\\t77,779\\t154,527\\t\\xa0\\tBushwick\\t66,695\\t67,378\\t134,073\\t\\xa0\\tBedford-Stuyvesant\\t64,655\\t74,558\\t139,213\\t\\xa0\\tBrooklyn Heights & Fort Greene\\t58,271\\t66,161\\t124,432\\t\\xa0\\tPark Slope, Carroll Gardens & Red Hook\\t53,112\\t58,760\\t111,871\\t\\xa0\\tCrown Heights North & Prospect Heights\\t57,936\\t70,196\\t128,131\\t\\xa0\\tBrownsville & Ocean Hill\\t54,311\\t68,986\\t123,297\\t\\xa0\\tEast New York & Starrett City\\t73,196\\t86,466\\t159,662\\t\\xa0\\tCanarsie & Flatlands\\t90,847\\t110,065\\t200,912\\t\\xa0\\tEast Flatbush, Farragut & Rugby\\t62,365\\t78,661\\t141,026\\t\\xa0\\tCrown Heights So., Prospect Lefferts & Wingate\\t50,493\\t61,025\\t111,518\\t\\xa0\\tSunset Park & Windsor Terrace\\t78,533\\t75,131\\t153,664\\t\\xa0\\tBay Ridge & Dyker Heights\\t62,055\\t65,267\\t127,323\\t\\xa0\\tBorough Park, Kensington & Ocean Parkway\\t85,578\\t84,056\\t169,634\\t\\xa0\\tFlatbush & Midwood\\t77,849\\t86,969\\t164,818\\t\\xa0\\tSheepshead Bay, Gerritsen Beach & Homecrest\\t73,985\\t79,944\\t153,929\\t\\xa0\\tBensonhurst & Bath Beach\\t92,931\\t96,344\\t189,275\\t\\xa0\\tBrighton Beach & Coney Island\\t55,293\\t64,256\\t119,550\\tNew York (Manhattan)\\tWashington Heights, Inwood & Marble Hill\\t97,142\\t106,275\\t203,417\\t\\xa0\\tHamilton Heights, Manhattanville & West Harlem\\t61,481\\t68,085\\t129,566\\t\\xa0\\tCentral Harlem\\t56,270\\t65,431\\t121,701\\t\\xa0\\tEast Harlem\\t56,312\\t64,124\\t120,435\\t\\xa0\\tUpper East Side\\t102,121\\t127,056\\t229,177\\t\\xa0\\tUpper West Side & West Side\\t93,032\\t108,808\\t201,840\\t\\xa0\\tChelsea, Clinton & Midtown Business District\\t77,568\\t71,985\\t149,553\\t\\xa0\\tMurray Hill, Gramercy & Stuyvesant Town\\t71,357\\t84,491\\t155,848\\t\\xa0\\tChinatown & Lower East Side\\t81,995\\t87,276\\t169,271\\t\\xa0\\tBattery Park City, Greenwich Village & Soho\\t75,851\\t78,330\\t154,181\\tQueens\\tAstoria & Long Island City\\t88,021\\t92,150\\t180,171\\t\\xa0\\tJackson Heights & North Corona\\t98,331\\t90,820\\t189,150\\t\\xa0\\tFlushing, Murray Hill & Whitestone\\t123,550\\t134,764\\t258,315\\t\\xa0\\tBayside, Douglaston & Little Neck\\t58,155\\t63,468\\t121,623\\t\\xa0\\tQueens Village, Cambria Heights & Rosedale\\t90,730\\t104,801\\t195,531\\t\\xa0\\tBriarwood, Fresh Meadows & Hillcrest\\t76,454\\t83,163\\t159,617\\t\\xa0\\tElmhurst & South Corona\\t76,755\\t74,131\\t150,886\\t\\xa0\\tForest Hills & Rego Park\\t54,531\\t62,495\\t117,027\\t\\xa0\\tSunnyside & Woodside\\t70,244\\t68,429\\t138,673\\t\\xa0\\tRidgewood, Glendale & Middle Village\\t86,201\\t90,134\\t176,336\\t\\xa0\\tRichmond Hill & Woodhaven\\t73,306\\t74,235\\t147,541\\t\\xa0\\tJamaica, Hollis & St. Albans\\t105,917\\t122,616\\t228,533\\t\\xa0\\tHoward Beach & Ozone Park\\t61,637\\t65,928\\t127,565\\t\\xa0\\tFar Rockaway, Breezy Point & Broad Channel\\t56,053\\t62,989\\t119,043\\tRichmond (Staten Island)\\tTottenville, Great Kills & Annadale\\t78,800\\t82,782\\t161,583\\t\\xa0\\tNew Springville & South Beach\\t64,693\\t70,437\\t135,130\\t\\xa0\\tPort Richmond, Stapleton & Mariner's Harbor\\t85,549\\t91,062\\t176,611\"]"
      ]
     },
     "execution_count": 24,
     "metadata": {},
     "output_type": "execute_result"
    }
   ],
   "source": [
    "[s.rstrip('\\t') for s in lines]"
   ]
  },
  {
   "cell_type": "code",
   "execution_count": null,
   "metadata": {},
   "outputs": [],
   "source": []
  },
  {
   "cell_type": "code",
   "execution_count": null,
   "metadata": {},
   "outputs": [],
   "source": []
  },
  {
   "cell_type": "code",
   "execution_count": 25,
   "metadata": {},
   "outputs": [],
   "source": [
    "# Opción 2: text"
   ]
  },
  {
   "cell_type": "code",
   "execution_count": 26,
   "metadata": {},
   "outputs": [],
   "source": [
    "f = (open('NYC_population2019.text', \"w\"))"
   ]
  },
  {
   "cell_type": "code",
   "execution_count": 27,
   "metadata": {},
   "outputs": [
    {
     "name": "stdout",
     "output_type": "stream",
     "text": [
      "Termina Proceso\n"
     ]
    }
   ],
   "source": [
    "for row in data:\n",
    "    f.write(\"%s\" % row.get_text().replace(\"\\n\",\"\\t\"))\n",
    "f.close()\n",
    "print(\"Termina Proceso\")"
   ]
  },
  {
   "cell_type": "code",
   "execution_count": null,
   "metadata": {},
   "outputs": [],
   "source": []
  }
 ],
 "metadata": {
  "kernelspec": {
   "display_name": "Python 3",
   "language": "python",
   "name": "python3"
  },
  "language_info": {
   "codemirror_mode": {
    "name": "ipython",
    "version": 3
   },
   "file_extension": ".py",
   "mimetype": "text/x-python",
   "name": "python",
   "nbconvert_exporter": "python",
   "pygments_lexer": "ipython3",
   "version": "3.9.1"
  }
 },
 "nbformat": 4,
 "nbformat_minor": 4
}
